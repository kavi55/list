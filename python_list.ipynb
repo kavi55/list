{
 "cells": [
  {
   "cell_type": "code",
   "execution_count": 1,
   "metadata": {},
   "outputs": [
    {
     "name": "stdout",
     "output_type": "stream",
     "text": [
      "Hello..\n"
     ]
    }
   ],
   "source": [
    "print(\"Hello..\")"
   ]
  },
  {
   "cell_type": "code",
   "execution_count": 2,
   "metadata": {},
   "outputs": [
    {
     "name": "stdout",
     "output_type": "stream",
     "text": [
      "['physics', 'Math', 'hindi', 'cse', 'geo']\n"
     ]
    }
   ],
   "source": [
    "courses=['physics','Math','hindi','cse','geo']\n",
    "print(courses)"
   ]
  },
  {
   "cell_type": "code",
   "execution_count": 3,
   "metadata": {},
   "outputs": [
    {
     "name": "stdout",
     "output_type": "stream",
     "text": [
      "5\n"
     ]
    }
   ],
   "source": [
    "print(len(courses))"
   ]
  },
  {
   "cell_type": "code",
   "execution_count": 4,
   "metadata": {},
   "outputs": [
    {
     "name": "stdout",
     "output_type": "stream",
     "text": [
      "physics\n"
     ]
    }
   ],
   "source": [
    "print(courses[0])"
   ]
  },
  {
   "cell_type": "code",
   "execution_count": 5,
   "metadata": {},
   "outputs": [
    {
     "name": "stdout",
     "output_type": "stream",
     "text": [
      "cse\n"
     ]
    }
   ],
   "source": [
    "print(courses[3])"
   ]
  },
  {
   "cell_type": "code",
   "execution_count": 6,
   "metadata": {},
   "outputs": [
    {
     "name": "stdout",
     "output_type": "stream",
     "text": [
      "geo\n"
     ]
    }
   ],
   "source": [
    "print(courses[-1])"
   ]
  },
  {
   "cell_type": "code",
   "execution_count": 7,
   "metadata": {},
   "outputs": [
    {
     "name": "stdout",
     "output_type": "stream",
     "text": [
      "['physics', 'Math']\n"
     ]
    }
   ],
   "source": [
    "print(courses[0:2]) # if we take 0:2 than we print zero index as well as first index."
   ]
  },
  {
   "cell_type": "code",
   "execution_count": 8,
   "metadata": {},
   "outputs": [
    {
     "name": "stdout",
     "output_type": "stream",
     "text": [
      "['physics', 'Math']\n"
     ]
    }
   ],
   "source": [
    "print(courses[:2]) # we don't take zero index... the result is same.."
   ]
  },
  {
   "cell_type": "code",
   "execution_count": 9,
   "metadata": {},
   "outputs": [
    {
     "name": "stdout",
     "output_type": "stream",
     "text": [
      "['hindi', 'cse', 'geo']\n"
     ]
    }
   ],
   "source": [
    "print(courses[2:])"
   ]
  },
  {
   "cell_type": "code",
   "execution_count": 10,
   "metadata": {},
   "outputs": [
    {
     "name": "stdout",
     "output_type": "stream",
     "text": [
      "['physics', 'Math', 'hindi', 'cse', 'geo', 'Art']\n"
     ]
    }
   ],
   "source": [
    "courses.append('Art') # adding value in List..\n",
    "print(courses)"
   ]
  },
  {
   "cell_type": "code",
   "execution_count": 11,
   "metadata": {},
   "outputs": [
    {
     "name": "stdout",
     "output_type": "stream",
     "text": [
      "['Art', 'physics', 'Math', 'hindi', 'cse', 'geo', 'Art']\n"
     ]
    }
   ],
   "source": [
    "courses.insert(0,'Art')\n",
    "print(courses)"
   ]
  },
  {
   "cell_type": "code",
   "execution_count": 12,
   "metadata": {},
   "outputs": [
    {
     "name": "stdout",
     "output_type": "stream",
     "text": [
      "[['automato', 'elec'], 'Art', 'physics', 'Math', 'hindi', 'cse', 'geo', 'Art']\n"
     ]
    }
   ],
   "source": [
    "courses2=['automato','elec'] # list in a list\n",
    "courses.insert(0,courses2)\n",
    "print(courses)"
   ]
  },
  {
   "cell_type": "code",
   "execution_count": 13,
   "metadata": {},
   "outputs": [
    {
     "name": "stdout",
     "output_type": "stream",
     "text": [
      "['physics', 'Math', 'hindi', 'cse', 'geo', 'automato', 'elec']\n"
     ]
    }
   ],
   "source": [
    "courses=['physics','Math','hindi','cse','geo']\n",
    "courses2=['automato','elec']\n",
    "courses.extend(courses2)\n",
    "print(courses)"
   ]
  },
  {
   "cell_type": "code",
   "execution_count": 14,
   "metadata": {},
   "outputs": [
    {
     "name": "stdout",
     "output_type": "stream",
     "text": [
      "['physics', 'Math', 'hindi', 'cse', 'geo', ['automato', 'elec']]\n"
     ]
    }
   ],
   "source": [
    "courses=['physics','Math','hindi','cse','geo']\n",
    "courses2=['automato','elec']\n",
    "courses.append(courses2)\n",
    "print(courses)"
   ]
  },
  {
   "cell_type": "code",
   "execution_count": 15,
   "metadata": {},
   "outputs": [
    {
     "name": "stdout",
     "output_type": "stream",
     "text": [
      "['Math', 'hindi', 'cse', 'geo']\n"
     ]
    }
   ],
   "source": [
    "courses=['physics','Math','hindi','cse','geo']\n",
    "courses.remove('physics')\n",
    "print(courses)"
   ]
  },
  {
   "cell_type": "code",
   "execution_count": 16,
   "metadata": {},
   "outputs": [
    {
     "name": "stdout",
     "output_type": "stream",
     "text": [
      "['physics', 'Math', 'hindi', 'cse']\n"
     ]
    }
   ],
   "source": [
    "courses=['physics','Math','hindi','cse','geo']\n",
    "courses.pop()\n",
    "print(courses)\n"
   ]
  },
  {
   "cell_type": "code",
   "execution_count": 17,
   "metadata": {},
   "outputs": [
    {
     "name": "stdout",
     "output_type": "stream",
     "text": [
      "geo\n"
     ]
    }
   ],
   "source": [
    "courses=['physics','Math','hindi','cse','geo']\n",
    "popped=courses.pop()\n",
    "print(popped)"
   ]
  },
  {
   "cell_type": "code",
   "execution_count": 18,
   "metadata": {},
   "outputs": [
    {
     "name": "stdout",
     "output_type": "stream",
     "text": [
      "['geo', 'cse', 'hindi', 'Math', 'physics']\n"
     ]
    }
   ],
   "source": [
    "courses=['physics','Math','hindi','cse','geo']\n",
    "courses.reverse()\n",
    "print(courses)"
   ]
  },
  {
   "cell_type": "code",
   "execution_count": 19,
   "metadata": {},
   "outputs": [
    {
     "name": "stdout",
     "output_type": "stream",
     "text": [
      "['Cse', 'Geo', 'Hindi', 'Math', 'Physics']\n"
     ]
    }
   ],
   "source": [
    "courses=['Physics','Math','Hindi','Cse','Geo']\n",
    "courses.sort()\n",
    "print(courses)"
   ]
  },
  {
   "cell_type": "code",
   "execution_count": 20,
   "metadata": {},
   "outputs": [
    {
     "name": "stdout",
     "output_type": "stream",
     "text": [
      "['Cse', 'Geo', 'Hindi', 'Math', 'Physics']\n",
      "[1, 3, 6, 8]\n"
     ]
    }
   ],
   "source": [
    "courses=['Physics','Math','Hindi','Cse','Geo']\n",
    "num=[8,6,1,3]\n",
    "courses.sort()\n",
    "num.sort()\n",
    "print(courses)\n",
    "print(num)"
   ]
  },
  {
   "cell_type": "code",
   "execution_count": 21,
   "metadata": {},
   "outputs": [
    {
     "name": "stdout",
     "output_type": "stream",
     "text": [
      "['Physics', 'Math', 'Hindi', 'Geo', 'Cse']\n",
      "[8, 5, 3, 1]\n"
     ]
    }
   ],
   "source": [
    "courses=['Physics','Math','Hindi','Cse','Geo']\n",
    "num=[5,8,1,3]\n",
    "courses.sort(reverse=True)\n",
    "num.sort(reverse=True)\n",
    "print(courses)\n",
    "print(num)"
   ]
  },
  {
   "cell_type": "code",
   "execution_count": 22,
   "metadata": {},
   "outputs": [
    {
     "name": "stdout",
     "output_type": "stream",
     "text": [
      "['Physics', 'Math', 'Hindi', 'Cse', 'Geo']\n"
     ]
    }
   ],
   "source": [
    "courses=['Physics','Math','Hindi','Cse','Geo']\n",
    "sorted(courses)\n",
    "print(courses)"
   ]
  },
  {
   "cell_type": "code",
   "execution_count": 23,
   "metadata": {},
   "outputs": [
    {
     "name": "stdout",
     "output_type": "stream",
     "text": [
      "['Cse', 'Geo', 'Hindi', 'Math', 'Physics']\n"
     ]
    }
   ],
   "source": [
    "courses=['Physics','Math','Hindi','Cse','Geo']\n",
    "sort_courses=sorted(courses)\n",
    "print(sort_courses)"
   ]
  },
  {
   "cell_type": "code",
   "execution_count": 24,
   "metadata": {},
   "outputs": [
    {
     "name": "stdout",
     "output_type": "stream",
     "text": [
      "1\n"
     ]
    }
   ],
   "source": [
    "num=[5,8,1,3]\n",
    "print(min(num))\n"
   ]
  },
  {
   "cell_type": "code",
   "execution_count": 25,
   "metadata": {},
   "outputs": [
    {
     "name": "stdout",
     "output_type": "stream",
     "text": [
      "8\n"
     ]
    }
   ],
   "source": [
    "print(max(num))"
   ]
  },
  {
   "cell_type": "code",
   "execution_count": 26,
   "metadata": {},
   "outputs": [
    {
     "name": "stdout",
     "output_type": "stream",
     "text": [
      "17\n"
     ]
    }
   ],
   "source": [
    "print(sum(num))"
   ]
  },
  {
   "cell_type": "code",
   "execution_count": 27,
   "metadata": {},
   "outputs": [
    {
     "name": "stdout",
     "output_type": "stream",
     "text": [
      "4\n"
     ]
    }
   ],
   "source": [
    "courses=['Physics','Math','Hindi','Cse','Geo']\n",
    "print(courses.index('Geo'))"
   ]
  },
  {
   "cell_type": "code",
   "execution_count": 28,
   "metadata": {},
   "outputs": [
    {
     "name": "stdout",
     "output_type": "stream",
     "text": [
      "False\n"
     ]
    }
   ],
   "source": [
    "courses=['Physics','Math','Hindi','Cse','Geo']\n",
    "print('Art'in courses)"
   ]
  },
  {
   "cell_type": "code",
   "execution_count": 29,
   "metadata": {},
   "outputs": [
    {
     "name": "stdout",
     "output_type": "stream",
     "text": [
      "True\n"
     ]
    }
   ],
   "source": [
    "print('Math'in courses)"
   ]
  },
  {
   "cell_type": "code",
   "execution_count": 30,
   "metadata": {},
   "outputs": [
    {
     "name": "stdout",
     "output_type": "stream",
     "text": [
      "Physics\n",
      "Math\n",
      "Hindi\n",
      "Cse\n",
      "Geo\n"
     ]
    }
   ],
   "source": [
    "# FOR loop in list \n",
    "courses=['Physics','Math','Hindi','Cse','Geo'] # kavi is not a keyword its a variable...\n",
    "for kavi in courses:\n",
    "    print(kavi)\n",
    "    \n"
   ]
  },
  {
   "cell_type": "code",
   "execution_count": 31,
   "metadata": {},
   "outputs": [
    {
     "name": "stdout",
     "output_type": "stream",
     "text": [
      "0 Physics\n",
      "1 Math\n",
      "2 Hindi\n",
      "3 Cse\n",
      "4 Geo\n"
     ]
    }
   ],
   "source": [
    "courses=['Physics','Math','Hindi','Cse','Geo']\n",
    "for index, kavi in enumerate(courses):\n",
    "    print(index,kavi)"
   ]
  },
  {
   "cell_type": "code",
   "execution_count": 32,
   "metadata": {},
   "outputs": [
    {
     "name": "stdout",
     "output_type": "stream",
     "text": [
      "1 Physics\n",
      "2 Math\n",
      "3 Hindi\n",
      "4 Cse\n",
      "5 Geo\n"
     ]
    }
   ],
   "source": [
    "for index, kavi in enumerate(courses,start=1):\n",
    "    print(index,kavi)"
   ]
  },
  {
   "cell_type": "code",
   "execution_count": 34,
   "metadata": {},
   "outputs": [
    {
     "name": "stdout",
     "output_type": "stream",
     "text": [
      "Physics, Math, Hindi, Cse, Geo\n"
     ]
    }
   ],
   "source": [
    "# string variable in list...\n",
    "courses=['Physics','Math','Hindi','Cse','Geo']\n",
    "cou_str=', '.join(courses)\n",
    "print(cou_str)"
   ]
  },
  {
   "cell_type": "code",
   "execution_count": 40,
   "metadata": {},
   "outputs": [
    {
     "name": "stdout",
     "output_type": "stream",
     "text": [
      "Physics - Math - Hindi - Cse - Geo\n"
     ]
    }
   ],
   "source": [
    "cou_str=' - '.join(courses)\n",
    "print(cou_str)"
   ]
  },
  {
   "cell_type": "code",
   "execution_count": 42,
   "metadata": {},
   "outputs": [
    {
     "name": "stdout",
     "output_type": "stream",
     "text": [
      "['Physics', 'Math', 'Hindi', 'Cse', 'Geo']\n"
     ]
    }
   ],
   "source": [
    "courses=['Physics','Math','Hindi','Cse','Geo']\n",
    "cou_str =' - '.join(courses)\n",
    "new_list=cou_str.split(' - ')\n",
    "print(new_list)"
   ]
  },
  {
   "cell_type": "code",
   "execution_count": null,
   "metadata": {},
   "outputs": [],
   "source": []
  }
 ],
 "metadata": {
  "kernelspec": {
   "display_name": "Python 3",
   "language": "python",
   "name": "python3"
  },
  "language_info": {
   "codemirror_mode": {
    "name": "ipython",
    "version": 3
   },
   "file_extension": ".py",
   "mimetype": "text/x-python",
   "name": "python",
   "nbconvert_exporter": "python",
   "pygments_lexer": "ipython3",
   "version": "3.7.1"
  }
 },
 "nbformat": 4,
 "nbformat_minor": 2
}
